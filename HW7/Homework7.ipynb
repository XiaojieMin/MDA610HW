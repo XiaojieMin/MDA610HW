{
 "cells": [
  {
   "cell_type": "code",
   "execution_count": 5,
   "metadata": {},
   "outputs": [
    {
     "data": {
      "text/plain": [
       "{'Mean': 2.25,\n",
       " 'Variance': 0.7291666666666666,\n",
       " 'Stand Deviation': 0.8539125638299665}"
      ]
     },
     "execution_count": 5,
     "metadata": {},
     "output_type": "execute_result"
    }
   ],
   "source": [
    "import numpy as np\n",
    "def Func(x):\n",
    "    Output = {}\n",
    "    Name = ['Mean','Variance','Stand Deviation']\n",
    "    Mx = np.mean(x)\n",
    "    Vx = np.var(x)\n",
    "    Sd = np.std(x)\n",
    "    Variables = [Mx,Vx,Sd]\n",
    "    for i in range(len(Name)):\n",
    "        Output[Name[i]]=Variables[i]\n",
    "    return Output\n",
    "Func([1.0,1.5,2.0,2.5,3.0,3.5])"
   ]
  },
  {
   "cell_type": "code",
   "execution_count": 37,
   "metadata": {},
   "outputs": [
    {
     "name": "stdout",
     "output_type": "stream",
     "text": [
      "Please input a number 1\n",
      "Please input a number 1\n",
      "Please input a number 1\n",
      "Please input a number 1\n",
      "Please input a number 1\n",
      "Please input a number 0\n",
      "5.0\n",
      "Mean =  1.0\n"
     ]
    }
   ],
   "source": [
    "s = 0\n",
    "a = 1\n",
    "count = 0 \n",
    "while a != 0:\n",
    "    a = input('Please input a number ') \n",
    "    a = float(a)\n",
    "    s += a\n",
    "    count += 1\n",
    "print (s)\n",
    "Mean = s/(count-1)\n",
    "print ('Mean = ',Mean)"
   ]
  }
 ],
 "metadata": {
  "kernelspec": {
   "display_name": "Python 3",
   "language": "python",
   "name": "python3"
  },
  "language_info": {
   "codemirror_mode": {
    "name": "ipython",
    "version": 3
   },
   "file_extension": ".py",
   "mimetype": "text/x-python",
   "name": "python",
   "nbconvert_exporter": "python",
   "pygments_lexer": "ipython3",
   "version": "3.7.3"
  }
 },
 "nbformat": 4,
 "nbformat_minor": 2
}
