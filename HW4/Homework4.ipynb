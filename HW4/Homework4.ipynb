{
 "cells": [
  {
   "cell_type": "code",
   "execution_count": 46,
   "metadata": {},
   "outputs": [
    {
     "name": "stdout",
     "output_type": "stream",
     "text": [
      "Please input a string:\tabcdef\n",
      "The reverse copy is:\t fedcba\n"
     ]
    }
   ],
   "source": [
    "String = input(\"Please input a string:\\t\")\n",
    "Output = String[::-1]\n",
    "print(\"The reverse copy is:\\t\",Output)"
   ]
  },
  {
   "cell_type": "code",
   "execution_count": 36,
   "metadata": {},
   "outputs": [
    {
     "name": "stdout",
     "output_type": "stream",
     "text": [
      "Please input a number:\t4\n",
      "(1, 2, 3, 4)\n",
      "2.5\n"
     ]
    }
   ],
   "source": [
    "def average(*args):\n",
    "    print(args)\n",
    "    sum = 0.0\n",
    "    for x in args:\n",
    "        sum += x\n",
    "    return sum / len(args)\n",
    "a = [1,2,3]\n",
    "b = int(input(\"Please input a number:\\t\"))\n",
    "a.append(b)\n",
    "print(average(*a))\n"
   ]
  },
  {
   "cell_type": "code",
   "execution_count": 38,
   "metadata": {},
   "outputs": [
    {
     "name": "stdout",
     "output_type": "stream",
     "text": [
      "Input the radius of the circle : 2\n",
      "The area of the circle with radius 2.0 is: 12.566370614359172\n"
     ]
    }
   ],
   "source": [
    "from math import pi\n",
    "r = float(input (\"Input the radius of the circle : \"))\n",
    "print (\"The area of the circle with radius \" + str(r) + \" is: \" + str(pi * r**2))"
   ]
  },
  {
   "cell_type": "code",
   "execution_count": 45,
   "metadata": {},
   "outputs": [
    {
     "name": "stdout",
     "output_type": "stream",
     "text": [
      "Please input a number:\t1\n",
      "The Natural Logarithm is:\t 1.0\n",
      "The Common Logarithm is:\t 0.43429448190325176\n"
     ]
    }
   ],
   "source": [
    "import math\n",
    "from math import e\n",
    "x = int(input(\"Please input a number:\\t\"))\n",
    "y = e ** x\n",
    "print(\"The Natural Logarithm is:\\t\",math.log(y,e))\n",
    "print(\"The Common Logarithm is:\\t\",math.log(y,10))"
   ]
  }
 ],
 "metadata": {
  "kernelspec": {
   "display_name": "Python 3",
   "language": "python",
   "name": "python3"
  },
  "language_info": {
   "codemirror_mode": {
    "name": "ipython",
    "version": 3
   },
   "file_extension": ".py",
   "mimetype": "text/x-python",
   "name": "python",
   "nbconvert_exporter": "python",
   "pygments_lexer": "ipython3",
   "version": "3.7.3"
  }
 },
 "nbformat": 4,
 "nbformat_minor": 2
}
