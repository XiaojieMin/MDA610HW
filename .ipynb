{
 "cells": [
  {
   "cell_type": "code",
   "execution_count": 89,
   "metadata": {},
   "outputs": [
    {
     "data": {
      "text/plain": [
       "{'i': 2,\n",
       " ' ': 6,\n",
       " 'a': 1,\n",
       " 'm': 1,\n",
       " 't': 2,\n",
       " 'h': 3,\n",
       " 'e': 3,\n",
       " 'r': 2,\n",
       " 'o': 2,\n",
       " 'n': 1,\n",
       " 'w': 1,\n",
       " 'l': 1,\n",
       " 'd': 1}"
      ]
     },
     "execution_count": 89,
     "metadata": {},
     "output_type": "execute_result"
    }
   ],
   "source": [
    "# i\n",
    "def freq(str):\n",
    "    Freq = {} \n",
    "  \n",
    "    for i in str: \n",
    "        if i in Freq: \n",
    "            Freq[i] += 1\n",
    "        else: \n",
    "            Freq[i] = 1\n",
    "    return Freq\n",
    "freq(\"i am the hero in the world\")"
   ]
  },
  {
   "cell_type": "code",
   "execution_count": 92,
   "metadata": {},
   "outputs": [
    {
     "data": {
      "text/plain": [
       "(1, 12)"
      ]
     },
     "execution_count": 92,
     "metadata": {},
     "output_type": "execute_result"
    }
   ],
   "source": [
    "# ii\n",
    "def min_and_max(nums):\n",
    "    minimum = None\n",
    "    maximum = None\n",
    "    for x in nums:\n",
    "        if not minimum:\n",
    "            minimum = x\n",
    "        if not maximum:\n",
    "            maximum = x\n",
    "        elif x < minimum:\n",
    "            minimum = x\n",
    "        elif x > maximum:\n",
    "            maximum = x\n",
    "    return minimum, maximum\n",
    "min_and_max([4,2,3,8,9,10,12,1,3])"
   ]
  },
  {
   "cell_type": "code",
   "execution_count": 94,
   "metadata": {
    "scrolled": true
   },
   "outputs": [
    {
     "data": {
      "text/plain": [
       "[1, 3, 6, 10, 15, 21, 28, 36, 45]"
      ]
     },
     "execution_count": 94,
     "metadata": {},
     "output_type": "execute_result"
    }
   ],
   "source": [
    "# iii\n",
    "def cum_sum(nums):\n",
    "    total = 0\n",
    "    cumsum = []\n",
    "    for x in nums:\n",
    "       total += x\n",
    "       cumsum.append(total)\n",
    "    return cumsum\n",
    "cum_sum([1,2,3,4,5,6,7,8,9])"
   ]
  },
  {
   "cell_type": "code",
   "execution_count": 93,
   "metadata": {},
   "outputs": [
    {
     "data": {
      "text/plain": [
       "91"
      ]
     },
     "execution_count": 93,
     "metadata": {},
     "output_type": "execute_result"
    }
   ],
   "source": [
    "# iv\n",
    "def dot(K, L):\n",
    "   if len(K) != len(L):\n",
    "      return 0\n",
    "   return sum(i[0] * i[1] for i in zip(K, L))\n",
    "dot([1,2,3,4,5,6],[1,2,3,4,5,6])"
   ]
  }
 ],
 "metadata": {
  "kernelspec": {
   "display_name": "Python 3",
   "language": "python",
   "name": "python3"
  },
  "language_info": {
   "codemirror_mode": {
    "name": "ipython",
    "version": 3
   },
   "file_extension": ".py",
   "mimetype": "text/x-python",
   "name": "python",
   "nbconvert_exporter": "python",
   "pygments_lexer": "ipython3",
   "version": "3.7.3"
  }
 },
 "nbformat": 4,
 "nbformat_minor": 2
}
